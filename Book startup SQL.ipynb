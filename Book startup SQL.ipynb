{
 "cells": [
  {
   "cell_type": "markdown",
   "metadata": {},
   "source": [
    "# Book Startup"
   ]
  },
  {
   "cell_type": "markdown",
   "metadata": {},
   "source": [
    "1. Introduction\n",
    "* Overview of the project\n",
    "* Goals and objectives\n",
    "\n",
    "2. Data / Server Loading \n",
    "* Import necessary packets\n",
    "* Connect to the server\n",
    "\n",
    "3. Queries\n",
    "\n",
    "\n",
    "4. Conclusions and Recommendations\n"
   ]
  },
  {
   "cell_type": "markdown",
   "metadata": {},
   "source": [
    "## Introduction\n",
    "\n",
    "The coronavirus surprised the entire world, changing everyone's daily routine. City dwellers no longer spent their free time outside, going to cafes and shopping centers, but more people stayed home reading books. That attracted the attention of startups that rushed to develop new apps for book lovers. \n",
    "\n",
    "We will work with a database of one of the services competing in this market. It contains data about books, publishers, authors, customer ratings, and book reviews. This information will be used to generate a value proposition for a new product."
   ]
  },
  {
   "cell_type": "markdown",
   "metadata": {},
   "source": [
    "### Data / Server Loading "
   ]
  },
  {
   "cell_type": "code",
   "execution_count": 2,
   "metadata": {},
   "outputs": [
    {
     "name": "stdout",
     "output_type": "stream",
     "text": [
      "sqlalchemy is installed and working!\n"
     ]
    }
   ],
   "source": [
    "import sqlalchemy\n",
    "print(\"sqlalchemy is installed and working!\")"
   ]
  },
  {
   "cell_type": "code",
   "execution_count": 3,
   "metadata": {},
   "outputs": [],
   "source": [
    "# importar librerías\n",
    "import pandas as pd\n",
    "from sqlalchemy import create_engine\n",
    "\n",
    "\n",
    "db_config = {'user': 'practicum_student',         # nombre de usuario\n",
    "             'pwd': 's65BlTKV3faNIGhmvJVzOqhs', # contraseña\n",
    "             'host': 'rc1b-wcoijxj3yxfsf3fs.mdb.yandexcloud.net',\n",
    "             'port': 6432,              # puerto de conexión\n",
    "             'db': 'data-analyst-final-project-db'}          # nombre de la base de datos\n",
    "\n",
    "connection_string = 'postgresql://{}:{}@{}:{}/{}'.format(db_config['user'],\n",
    "                                                                     db_config['pwd'],\n",
    "                                                                       db_config['host'],\n",
    "                                                                       db_config['port'],\n",
    "                                                                       db_config['db'])\n",
    "\n",
    "engine = create_engine(connection_string, connect_args={'sslmode':'require'})"
   ]
  },
  {
   "cell_type": "markdown",
   "metadata": {},
   "source": [
    "## Queries"
   ]
  },
  {
   "cell_type": "markdown",
   "metadata": {},
   "source": [
    "### Analyze the tables"
   ]
  },
  {
   "cell_type": "code",
   "execution_count": 4,
   "metadata": {},
   "outputs": [
    {
     "name": "stdout",
     "output_type": "stream",
     "text": [
      "First 5 rows from books table:\n"
     ]
    },
    {
     "data": {
      "text/html": [
       "<div>\n",
       "<style scoped>\n",
       "    .dataframe tbody tr th:only-of-type {\n",
       "        vertical-align: middle;\n",
       "    }\n",
       "\n",
       "    .dataframe tbody tr th {\n",
       "        vertical-align: top;\n",
       "    }\n",
       "\n",
       "    .dataframe thead th {\n",
       "        text-align: right;\n",
       "    }\n",
       "</style>\n",
       "<table border=\"1\" class=\"dataframe\">\n",
       "  <thead>\n",
       "    <tr style=\"text-align: right;\">\n",
       "      <th></th>\n",
       "      <th>book_id</th>\n",
       "      <th>author_id</th>\n",
       "      <th>title</th>\n",
       "      <th>num_pages</th>\n",
       "      <th>publication_date</th>\n",
       "      <th>publisher_id</th>\n",
       "    </tr>\n",
       "  </thead>\n",
       "  <tbody>\n",
       "    <tr>\n",
       "      <th>0</th>\n",
       "      <td>1</td>\n",
       "      <td>546</td>\n",
       "      <td>'Salem's Lot</td>\n",
       "      <td>594</td>\n",
       "      <td>2005-11-01</td>\n",
       "      <td>93</td>\n",
       "    </tr>\n",
       "    <tr>\n",
       "      <th>1</th>\n",
       "      <td>2</td>\n",
       "      <td>465</td>\n",
       "      <td>1 000 Places to See Before You Die</td>\n",
       "      <td>992</td>\n",
       "      <td>2003-05-22</td>\n",
       "      <td>336</td>\n",
       "    </tr>\n",
       "    <tr>\n",
       "      <th>2</th>\n",
       "      <td>3</td>\n",
       "      <td>407</td>\n",
       "      <td>13 Little Blue Envelopes (Little Blue Envelope...</td>\n",
       "      <td>322</td>\n",
       "      <td>2010-12-21</td>\n",
       "      <td>135</td>\n",
       "    </tr>\n",
       "    <tr>\n",
       "      <th>3</th>\n",
       "      <td>4</td>\n",
       "      <td>82</td>\n",
       "      <td>1491: New Revelations of the Americas Before C...</td>\n",
       "      <td>541</td>\n",
       "      <td>2006-10-10</td>\n",
       "      <td>309</td>\n",
       "    </tr>\n",
       "    <tr>\n",
       "      <th>4</th>\n",
       "      <td>5</td>\n",
       "      <td>125</td>\n",
       "      <td>1776</td>\n",
       "      <td>386</td>\n",
       "      <td>2006-07-04</td>\n",
       "      <td>268</td>\n",
       "    </tr>\n",
       "  </tbody>\n",
       "</table>\n",
       "</div>"
      ],
      "text/plain": [
       "   book_id  author_id                                              title  \\\n",
       "0        1        546                                       'Salem's Lot   \n",
       "1        2        465                 1 000 Places to See Before You Die   \n",
       "2        3        407  13 Little Blue Envelopes (Little Blue Envelope...   \n",
       "3        4         82  1491: New Revelations of the Americas Before C...   \n",
       "4        5        125                                               1776   \n",
       "\n",
       "   num_pages publication_date  publisher_id  \n",
       "0        594       2005-11-01            93  \n",
       "1        992       2003-05-22           336  \n",
       "2        322       2010-12-21           135  \n",
       "3        541       2006-10-10           309  \n",
       "4        386       2006-07-04           268  "
      ]
     },
     "metadata": {},
     "output_type": "display_data"
    }
   ],
   "source": [
    "# Check the first five rows from books table\n",
    "\n",
    "query_books = \"\"\"\n",
    "SELECT * FROM books\n",
    "LIMIT 5;\n",
    "\"\"\"\n",
    "\n",
    "result_books = pd.read_sql(query_books, con=engine)\n",
    "print(\"First 5 rows from books table:\")\n",
    "display(result_books)"
   ]
  },
  {
   "cell_type": "code",
   "execution_count": 5,
   "metadata": {},
   "outputs": [
    {
     "name": "stdout",
     "output_type": "stream",
     "text": [
      "First 5 rows from authors table:\n"
     ]
    },
    {
     "data": {
      "text/html": [
       "<div>\n",
       "<style scoped>\n",
       "    .dataframe tbody tr th:only-of-type {\n",
       "        vertical-align: middle;\n",
       "    }\n",
       "\n",
       "    .dataframe tbody tr th {\n",
       "        vertical-align: top;\n",
       "    }\n",
       "\n",
       "    .dataframe thead th {\n",
       "        text-align: right;\n",
       "    }\n",
       "</style>\n",
       "<table border=\"1\" class=\"dataframe\">\n",
       "  <thead>\n",
       "    <tr style=\"text-align: right;\">\n",
       "      <th></th>\n",
       "      <th>author_id</th>\n",
       "      <th>author</th>\n",
       "    </tr>\n",
       "  </thead>\n",
       "  <tbody>\n",
       "    <tr>\n",
       "      <th>0</th>\n",
       "      <td>1</td>\n",
       "      <td>A.S. Byatt</td>\n",
       "    </tr>\n",
       "    <tr>\n",
       "      <th>1</th>\n",
       "      <td>2</td>\n",
       "      <td>Aesop/Laura Harris/Laura Gibbs</td>\n",
       "    </tr>\n",
       "    <tr>\n",
       "      <th>2</th>\n",
       "      <td>3</td>\n",
       "      <td>Agatha Christie</td>\n",
       "    </tr>\n",
       "    <tr>\n",
       "      <th>3</th>\n",
       "      <td>4</td>\n",
       "      <td>Alan Brennert</td>\n",
       "    </tr>\n",
       "    <tr>\n",
       "      <th>4</th>\n",
       "      <td>5</td>\n",
       "      <td>Alan Moore/David   Lloyd</td>\n",
       "    </tr>\n",
       "  </tbody>\n",
       "</table>\n",
       "</div>"
      ],
      "text/plain": [
       "   author_id                          author\n",
       "0          1                      A.S. Byatt\n",
       "1          2  Aesop/Laura Harris/Laura Gibbs\n",
       "2          3                 Agatha Christie\n",
       "3          4                   Alan Brennert\n",
       "4          5        Alan Moore/David   Lloyd"
      ]
     },
     "metadata": {},
     "output_type": "display_data"
    }
   ],
   "source": [
    "# Check the first five rows from authors table\n",
    "\n",
    "query_authors = \"\"\"\n",
    "SELECT * FROM authors\n",
    "LIMIT 5;\n",
    "\"\"\"\n",
    "\n",
    "result_authors = pd.read_sql(query_authors, con=engine)\n",
    "print(\"First 5 rows from authors table:\")\n",
    "display(result_authors)"
   ]
  },
  {
   "cell_type": "code",
   "execution_count": 6,
   "metadata": {},
   "outputs": [
    {
     "name": "stdout",
     "output_type": "stream",
     "text": [
      "First 5 rows from publishers table:\n"
     ]
    },
    {
     "data": {
      "text/html": [
       "<div>\n",
       "<style scoped>\n",
       "    .dataframe tbody tr th:only-of-type {\n",
       "        vertical-align: middle;\n",
       "    }\n",
       "\n",
       "    .dataframe tbody tr th {\n",
       "        vertical-align: top;\n",
       "    }\n",
       "\n",
       "    .dataframe thead th {\n",
       "        text-align: right;\n",
       "    }\n",
       "</style>\n",
       "<table border=\"1\" class=\"dataframe\">\n",
       "  <thead>\n",
       "    <tr style=\"text-align: right;\">\n",
       "      <th></th>\n",
       "      <th>publisher_id</th>\n",
       "      <th>publisher</th>\n",
       "    </tr>\n",
       "  </thead>\n",
       "  <tbody>\n",
       "    <tr>\n",
       "      <th>0</th>\n",
       "      <td>1</td>\n",
       "      <td>Ace</td>\n",
       "    </tr>\n",
       "    <tr>\n",
       "      <th>1</th>\n",
       "      <td>2</td>\n",
       "      <td>Ace Book</td>\n",
       "    </tr>\n",
       "    <tr>\n",
       "      <th>2</th>\n",
       "      <td>3</td>\n",
       "      <td>Ace Books</td>\n",
       "    </tr>\n",
       "    <tr>\n",
       "      <th>3</th>\n",
       "      <td>4</td>\n",
       "      <td>Ace Hardcover</td>\n",
       "    </tr>\n",
       "    <tr>\n",
       "      <th>4</th>\n",
       "      <td>5</td>\n",
       "      <td>Addison Wesley Publishing Company</td>\n",
       "    </tr>\n",
       "  </tbody>\n",
       "</table>\n",
       "</div>"
      ],
      "text/plain": [
       "   publisher_id                          publisher\n",
       "0             1                                Ace\n",
       "1             2                           Ace Book\n",
       "2             3                          Ace Books\n",
       "3             4                      Ace Hardcover\n",
       "4             5  Addison Wesley Publishing Company"
      ]
     },
     "metadata": {},
     "output_type": "display_data"
    }
   ],
   "source": [
    "# Check the first five rows from publishers table\n",
    "\n",
    "query_publishers = \"\"\"\n",
    "SELECT * FROM publishers\n",
    "LIMIT 5;\n",
    "\"\"\"\n",
    "result_publishers = pd.read_sql(query_publishers, con=engine)\n",
    "print(\"First 5 rows from publishers table:\")\n",
    "display(result_publishers)"
   ]
  },
  {
   "cell_type": "code",
   "execution_count": 7,
   "metadata": {},
   "outputs": [
    {
     "name": "stdout",
     "output_type": "stream",
     "text": [
      "First 5 rows from ratings table:\n"
     ]
    },
    {
     "data": {
      "text/html": [
       "<div>\n",
       "<style scoped>\n",
       "    .dataframe tbody tr th:only-of-type {\n",
       "        vertical-align: middle;\n",
       "    }\n",
       "\n",
       "    .dataframe tbody tr th {\n",
       "        vertical-align: top;\n",
       "    }\n",
       "\n",
       "    .dataframe thead th {\n",
       "        text-align: right;\n",
       "    }\n",
       "</style>\n",
       "<table border=\"1\" class=\"dataframe\">\n",
       "  <thead>\n",
       "    <tr style=\"text-align: right;\">\n",
       "      <th></th>\n",
       "      <th>rating_id</th>\n",
       "      <th>book_id</th>\n",
       "      <th>username</th>\n",
       "      <th>rating</th>\n",
       "    </tr>\n",
       "  </thead>\n",
       "  <tbody>\n",
       "    <tr>\n",
       "      <th>0</th>\n",
       "      <td>1</td>\n",
       "      <td>1</td>\n",
       "      <td>ryanfranco</td>\n",
       "      <td>4</td>\n",
       "    </tr>\n",
       "    <tr>\n",
       "      <th>1</th>\n",
       "      <td>2</td>\n",
       "      <td>1</td>\n",
       "      <td>grantpatricia</td>\n",
       "      <td>2</td>\n",
       "    </tr>\n",
       "    <tr>\n",
       "      <th>2</th>\n",
       "      <td>3</td>\n",
       "      <td>1</td>\n",
       "      <td>brandtandrea</td>\n",
       "      <td>5</td>\n",
       "    </tr>\n",
       "    <tr>\n",
       "      <th>3</th>\n",
       "      <td>4</td>\n",
       "      <td>2</td>\n",
       "      <td>lorichen</td>\n",
       "      <td>3</td>\n",
       "    </tr>\n",
       "    <tr>\n",
       "      <th>4</th>\n",
       "      <td>5</td>\n",
       "      <td>2</td>\n",
       "      <td>mariokeller</td>\n",
       "      <td>2</td>\n",
       "    </tr>\n",
       "  </tbody>\n",
       "</table>\n",
       "</div>"
      ],
      "text/plain": [
       "   rating_id  book_id       username  rating\n",
       "0          1        1     ryanfranco       4\n",
       "1          2        1  grantpatricia       2\n",
       "2          3        1   brandtandrea       5\n",
       "3          4        2       lorichen       3\n",
       "4          5        2    mariokeller       2"
      ]
     },
     "metadata": {},
     "output_type": "display_data"
    }
   ],
   "source": [
    "#Check the first five rows from ratings table\"\n",
    "query_ratings = \"\"\"\n",
    "SELECT * FROM ratings\n",
    "LIMIT 5;\n",
    "\"\"\"\n",
    "result_ratings = pd.read_sql(query_ratings, con=engine)\n",
    "print(\"First 5 rows from ratings table:\")\n",
    "display(result_ratings)"
   ]
  },
  {
   "cell_type": "code",
   "execution_count": 8,
   "metadata": {},
   "outputs": [
    {
     "name": "stdout",
     "output_type": "stream",
     "text": [
      "First 5 rows from reviews table:\n"
     ]
    },
    {
     "data": {
      "text/html": [
       "<div>\n",
       "<style scoped>\n",
       "    .dataframe tbody tr th:only-of-type {\n",
       "        vertical-align: middle;\n",
       "    }\n",
       "\n",
       "    .dataframe tbody tr th {\n",
       "        vertical-align: top;\n",
       "    }\n",
       "\n",
       "    .dataframe thead th {\n",
       "        text-align: right;\n",
       "    }\n",
       "</style>\n",
       "<table border=\"1\" class=\"dataframe\">\n",
       "  <thead>\n",
       "    <tr style=\"text-align: right;\">\n",
       "      <th></th>\n",
       "      <th>review_id</th>\n",
       "      <th>book_id</th>\n",
       "      <th>username</th>\n",
       "      <th>text</th>\n",
       "    </tr>\n",
       "  </thead>\n",
       "  <tbody>\n",
       "    <tr>\n",
       "      <th>0</th>\n",
       "      <td>1</td>\n",
       "      <td>1</td>\n",
       "      <td>brandtandrea</td>\n",
       "      <td>Mention society tell send professor analysis. ...</td>\n",
       "    </tr>\n",
       "    <tr>\n",
       "      <th>1</th>\n",
       "      <td>2</td>\n",
       "      <td>1</td>\n",
       "      <td>ryanfranco</td>\n",
       "      <td>Foot glass pretty audience hit themselves. Amo...</td>\n",
       "    </tr>\n",
       "    <tr>\n",
       "      <th>2</th>\n",
       "      <td>3</td>\n",
       "      <td>2</td>\n",
       "      <td>lorichen</td>\n",
       "      <td>Listen treat keep worry. Miss husband tax but ...</td>\n",
       "    </tr>\n",
       "    <tr>\n",
       "      <th>3</th>\n",
       "      <td>4</td>\n",
       "      <td>3</td>\n",
       "      <td>johnsonamanda</td>\n",
       "      <td>Finally month interesting blue could nature cu...</td>\n",
       "    </tr>\n",
       "    <tr>\n",
       "      <th>4</th>\n",
       "      <td>5</td>\n",
       "      <td>3</td>\n",
       "      <td>scotttamara</td>\n",
       "      <td>Nation purpose heavy give wait song will. List...</td>\n",
       "    </tr>\n",
       "  </tbody>\n",
       "</table>\n",
       "</div>"
      ],
      "text/plain": [
       "   review_id  book_id       username  \\\n",
       "0          1        1   brandtandrea   \n",
       "1          2        1     ryanfranco   \n",
       "2          3        2       lorichen   \n",
       "3          4        3  johnsonamanda   \n",
       "4          5        3    scotttamara   \n",
       "\n",
       "                                                text  \n",
       "0  Mention society tell send professor analysis. ...  \n",
       "1  Foot glass pretty audience hit themselves. Amo...  \n",
       "2  Listen treat keep worry. Miss husband tax but ...  \n",
       "3  Finally month interesting blue could nature cu...  \n",
       "4  Nation purpose heavy give wait song will. List...  "
      ]
     },
     "metadata": {},
     "output_type": "display_data"
    }
   ],
   "source": [
    "query_reviews = \"\"\"\n",
    "SELECT * FROM reviews\n",
    "LIMIT 5;\n",
    "\"\"\"\n",
    "result_reviews = pd.read_sql(query_reviews, con=engine)\n",
    "print(\"First 5 rows from reviews table:\")\n",
    "display(result_reviews)"
   ]
  },
  {
   "cell_type": "markdown",
   "metadata": {},
   "source": [
    "### Queries"
   ]
  },
  {
   "cell_type": "code",
   "execution_count": 9,
   "metadata": {},
   "outputs": [
    {
     "data": {
      "text/html": [
       "<div>\n",
       "<style scoped>\n",
       "    .dataframe tbody tr th:only-of-type {\n",
       "        vertical-align: middle;\n",
       "    }\n",
       "\n",
       "    .dataframe tbody tr th {\n",
       "        vertical-align: top;\n",
       "    }\n",
       "\n",
       "    .dataframe thead th {\n",
       "        text-align: right;\n",
       "    }\n",
       "</style>\n",
       "<table border=\"1\" class=\"dataframe\">\n",
       "  <thead>\n",
       "    <tr style=\"text-align: right;\">\n",
       "      <th></th>\n",
       "      <th>books_published_after_2000</th>\n",
       "    </tr>\n",
       "  </thead>\n",
       "  <tbody>\n",
       "    <tr>\n",
       "      <th>0</th>\n",
       "      <td>819</td>\n",
       "    </tr>\n",
       "  </tbody>\n",
       "</table>\n",
       "</div>"
      ],
      "text/plain": [
       "   books_published_after_2000\n",
       "0                         819"
      ]
     },
     "metadata": {},
     "output_type": "display_data"
    }
   ],
   "source": [
    "# Query 1: Find the number of books published after January 1, 2000\n",
    "query1 = \"\"\"\n",
    "SELECT COUNT(*) AS books_published_after_2000\n",
    "FROM books\n",
    "WHERE publication_date > '2000-01-01';\n",
    "\"\"\"\n",
    "result1 = pd.read_sql(query1, con=engine)\n",
    "display(result1)"
   ]
  },
  {
   "cell_type": "markdown",
   "metadata": {},
   "source": [
    " A total of 819 books in the database were published after January 1, 2000. This indicates that the database has a significant collection of relatively recent publications, suggesting its relevance for users interested in contemporary literature.\n",
    "\n",
    " Let's compare to the total number of books in the database to determine the proportion of modern books versus older publications:"
   ]
  },
  {
   "cell_type": "code",
   "execution_count": 10,
   "metadata": {},
   "outputs": [
    {
     "name": "stdout",
     "output_type": "stream",
     "text": [
      "Total number of books: 1000\n",
      "Number of books published after January 1, 2000: 819\n",
      "Proportion of modern books: 81.90%\n"
     ]
    }
   ],
   "source": [
    "# Query: Total number of books in the database\n",
    "query_total_books = \"\"\"\n",
    "SELECT COUNT(*) AS total_books\n",
    "FROM books;\n",
    "\"\"\"\n",
    "result_total_books = pd.read_sql(query_total_books, con=engine)\n",
    "total_books = result_total_books['total_books'][0]\n",
    "\n",
    "# Query: Number of books published after January 1, 2000\n",
    "query_books_after_2000 = \"\"\"\n",
    "SELECT COUNT(*) AS books_published_after_2000\n",
    "FROM books\n",
    "WHERE publication_date > '2000-01-01';\n",
    "\"\"\"\n",
    "result_books_after_2000 = pd.read_sql(query_books_after_2000, con=engine)\n",
    "books_published_after_2000 = result_books_after_2000['books_published_after_2000'][0]\n",
    "\n",
    "# Calculate the proportion of modern books\n",
    "proportion_modern_books = books_published_after_2000 / total_books * 100\n",
    "\n",
    "# Display the results\n",
    "print(f\"Total number of books: {total_books}\")\n",
    "print(f\"Number of books published after January 1, 2000: {books_published_after_2000}\")\n",
    "print(f\"Proportion of modern books: {proportion_modern_books:.2f}%\")"
   ]
  },
  {
   "cell_type": "markdown",
   "metadata": {},
   "source": [
    "* Relevance to Contemporary Readers: The high proportion of modern books indicates that the database is highly relevant to readers interested in recent publications.\n",
    "\n",
    "* Current Trends: The collection aligns well with current literary trends, potentially attracting a younger audience or readers looking for the latest titles and contemporary authors.\n",
    "\n",
    "* Marketing Focus: Marketing efforts can highlight the modernity of the collection. Emphasizing the availability of recent books in promotional materials could attract more users.\n",
    "\n",
    "* Only 18.10% of the collection consists of books published before 2000, which means there is a relatively smaller selection of classic or older literature. While the modern focus is beneficial, ensuring a balanced collection with classic literature can cater to a broader audience, including those interested in older, timeless works. Consider acquiring more classic books to diversify the collection. This will attract readers interested in literary history, academia, or those who enjoy classic genres\n",
    "\n",
    "\n",
    " Let's implement a function for **Query** 2 to find the number of user reviews and the average rating for each book. This query can be useful in multiple contexts, such as generating reports for different subsets of books or for books published in different time periods."
   ]
  },
  {
   "cell_type": "code",
   "execution_count": 11,
   "metadata": {},
   "outputs": [
    {
     "data": {
      "text/html": [
       "<div>\n",
       "<style scoped>\n",
       "    .dataframe tbody tr th:only-of-type {\n",
       "        vertical-align: middle;\n",
       "    }\n",
       "\n",
       "    .dataframe tbody tr th {\n",
       "        vertical-align: top;\n",
       "    }\n",
       "\n",
       "    .dataframe thead th {\n",
       "        text-align: right;\n",
       "    }\n",
       "</style>\n",
       "<table border=\"1\" class=\"dataframe\">\n",
       "  <thead>\n",
       "    <tr style=\"text-align: right;\">\n",
       "      <th></th>\n",
       "      <th>book_id</th>\n",
       "      <th>title</th>\n",
       "      <th>review_count</th>\n",
       "      <th>average_rating</th>\n",
       "    </tr>\n",
       "  </thead>\n",
       "  <tbody>\n",
       "    <tr>\n",
       "      <th>0</th>\n",
       "      <td>1</td>\n",
       "      <td>'Salem's Lot</td>\n",
       "      <td>6</td>\n",
       "      <td>3.666667</td>\n",
       "    </tr>\n",
       "    <tr>\n",
       "      <th>1</th>\n",
       "      <td>2</td>\n",
       "      <td>1 000 Places to See Before You Die</td>\n",
       "      <td>2</td>\n",
       "      <td>2.500000</td>\n",
       "    </tr>\n",
       "    <tr>\n",
       "      <th>2</th>\n",
       "      <td>3</td>\n",
       "      <td>13 Little Blue Envelopes (Little Blue Envelope...</td>\n",
       "      <td>9</td>\n",
       "      <td>4.666667</td>\n",
       "    </tr>\n",
       "    <tr>\n",
       "      <th>3</th>\n",
       "      <td>4</td>\n",
       "      <td>1491: New Revelations of the Americas Before C...</td>\n",
       "      <td>4</td>\n",
       "      <td>4.500000</td>\n",
       "    </tr>\n",
       "    <tr>\n",
       "      <th>4</th>\n",
       "      <td>5</td>\n",
       "      <td>1776</td>\n",
       "      <td>24</td>\n",
       "      <td>4.000000</td>\n",
       "    </tr>\n",
       "    <tr>\n",
       "      <th>...</th>\n",
       "      <td>...</td>\n",
       "      <td>...</td>\n",
       "      <td>...</td>\n",
       "      <td>...</td>\n",
       "    </tr>\n",
       "    <tr>\n",
       "      <th>995</th>\n",
       "      <td>996</td>\n",
       "      <td>Wyrd Sisters (Discworld  #6; Witches #2)</td>\n",
       "      <td>9</td>\n",
       "      <td>3.666667</td>\n",
       "    </tr>\n",
       "    <tr>\n",
       "      <th>996</th>\n",
       "      <td>997</td>\n",
       "      <td>Xenocide (Ender's Saga  #3)</td>\n",
       "      <td>15</td>\n",
       "      <td>3.400000</td>\n",
       "    </tr>\n",
       "    <tr>\n",
       "      <th>997</th>\n",
       "      <td>998</td>\n",
       "      <td>Year of Wonders</td>\n",
       "      <td>20</td>\n",
       "      <td>3.200000</td>\n",
       "    </tr>\n",
       "    <tr>\n",
       "      <th>998</th>\n",
       "      <td>999</td>\n",
       "      <td>You Suck (A Love Story  #2)</td>\n",
       "      <td>4</td>\n",
       "      <td>4.500000</td>\n",
       "    </tr>\n",
       "    <tr>\n",
       "      <th>999</th>\n",
       "      <td>1000</td>\n",
       "      <td>Zen and the Art of Motorcycle Maintenance: An ...</td>\n",
       "      <td>24</td>\n",
       "      <td>3.833333</td>\n",
       "    </tr>\n",
       "  </tbody>\n",
       "</table>\n",
       "<p>1000 rows × 4 columns</p>\n",
       "</div>"
      ],
      "text/plain": [
       "     book_id                                              title  review_count  \\\n",
       "0          1                                       'Salem's Lot             6   \n",
       "1          2                 1 000 Places to See Before You Die             2   \n",
       "2          3  13 Little Blue Envelopes (Little Blue Envelope...             9   \n",
       "3          4  1491: New Revelations of the Americas Before C...             4   \n",
       "4          5                                               1776            24   \n",
       "..       ...                                                ...           ...   \n",
       "995      996           Wyrd Sisters (Discworld  #6; Witches #2)             9   \n",
       "996      997                        Xenocide (Ender's Saga  #3)            15   \n",
       "997      998                                    Year of Wonders            20   \n",
       "998      999                        You Suck (A Love Story  #2)             4   \n",
       "999     1000  Zen and the Art of Motorcycle Maintenance: An ...            24   \n",
       "\n",
       "     average_rating  \n",
       "0          3.666667  \n",
       "1          2.500000  \n",
       "2          4.666667  \n",
       "3          4.500000  \n",
       "4          4.000000  \n",
       "..              ...  \n",
       "995        3.666667  \n",
       "996        3.400000  \n",
       "997        3.200000  \n",
       "998        4.500000  \n",
       "999        3.833333  \n",
       "\n",
       "[1000 rows x 4 columns]"
      ]
     },
     "metadata": {},
     "output_type": "display_data"
    }
   ],
   "source": [
    "# Query 2: Find the number of user reviews and the average rating for each book\n",
    "\n",
    "def get_book_reviews_and_ratings(engine, start_date=None, end_date=None):\n",
    "    \"\"\"\n",
    "    Retrieves the number of user reviews and average rating for each book.\n",
    "    \n",
    "    Parameters:\n",
    "        engine (sqlalchemy.engine.Engine): SQLAlchemy engine object for the database connection.\n",
    "        start_date (str): Optional. The start date for filtering books (format: 'YYYY-MM-DD').\n",
    "        end_date (str): Optional. The end date for filtering books (format: 'YYYY-MM-DD').\n",
    "        \n",
    "    Returns:\n",
    "        pd.DataFrame: DataFrame containing book_id, title, review_count, and average_rating.\n",
    "    \"\"\"\n",
    "    # Base query\n",
    "    query = \"\"\"\n",
    "    SELECT b.book_id, b.title, \n",
    "           COUNT(rw.review_id) AS review_count, \n",
    "           AVG(rt.rating) AS average_rating\n",
    "    FROM books b\n",
    "    LEFT JOIN reviews rw ON b.book_id = rw.book_id\n",
    "    LEFT JOIN ratings rt ON b.book_id = rt.book_id\n",
    "    WHERE 1=1\n",
    "    \"\"\"\n",
    "    \n",
    "    # Add date filters if provided\n",
    "    if start_date:\n",
    "        query += f\" AND b.publication_date >= '{start_date}'\"\n",
    "    if end_date:\n",
    "        query += f\" AND b.publication_date <= '{end_date}'\"\n",
    "    \n",
    "    # Group by and order by clauses\n",
    "    query += \"\"\"\n",
    "    GROUP BY b.book_id, b.title\n",
    "    ORDER BY b.book_id;\n",
    "    \"\"\"\n",
    "    \n",
    "    # Execute the query\n",
    "    result = pd.read_sql(query, con=engine)\n",
    "    return result\n",
    "\n",
    "\n",
    "engine = create_engine(connection_string, connect_args={'sslmode': 'require'})\n",
    "\n",
    "# Retrieve reviews and ratings for all books\n",
    "all_books_reviews_and_ratings = get_book_reviews_and_ratings(engine)\n",
    "display(all_books_reviews_and_ratings)"
   ]
  },
  {
   "cell_type": "markdown",
   "metadata": {},
   "source": [
    "From the snapshot of **this** ouptput we can see:\n",
    "\n",
    "**Highly Reviewed Books:**\n",
    "\n",
    "* \"1776\" and \"Zen and the Art of Motorcycle Maintenance: An Inquiry into Values\" both have 24 reviews, indicating high engagement from readers.\n",
    "* \"Year of Wonders\" and \"Xenocide (Ender's Saga #3)\" also have a significant number of reviews, with 20 and 15 respectively.\n",
    "\n",
    "**Highly Rated Books:**\n",
    "\n",
    "* \"13 Little Blue Envelopes (Little Blue Envelope Series)\" has an average rating of 4.67, suggesting it is well-received by readers.\n",
    "* \"1491: New Revelations of the Americas Before Columbus\" and \"You Suck (A Love Story #2)\" both have high average ratings of 4.50.\n",
    "\n",
    "**Low Average Ratings:**\n",
    "\n",
    "* \"1 000 Places to See Before You Die\" has a relatively low average rating of 2.50, indicating mixed or poor reviews.\n",
    "* \"Year of Wonders\" has a lower average rating of 3.20 despite having a high number of reviews.\n",
    "\n",
    "**Books with Moderate Engagement and Ratings:**\n",
    "\n",
    "* \"'Salem's Lot\" has a moderate number of reviews (6) with a decent average rating (3.67).\n",
    "* \"Wyrd Sisters (Discworld #6; Witches #2)\" also fits this category with 9 reviews and a 3.67 average rating.\n",
    "\n",
    "These insights suggest that while some books have high engagement and favorable reviews, others might be less well-received or have polarized opinions among readers.\n"
   ]
  },
  {
   "cell_type": "code",
   "execution_count": 12,
   "metadata": {},
   "outputs": [
    {
     "data": {
      "text/html": [
       "<div>\n",
       "<style scoped>\n",
       "    .dataframe tbody tr th:only-of-type {\n",
       "        vertical-align: middle;\n",
       "    }\n",
       "\n",
       "    .dataframe tbody tr th {\n",
       "        vertical-align: top;\n",
       "    }\n",
       "\n",
       "    .dataframe thead th {\n",
       "        text-align: right;\n",
       "    }\n",
       "</style>\n",
       "<table border=\"1\" class=\"dataframe\">\n",
       "  <thead>\n",
       "    <tr style=\"text-align: right;\">\n",
       "      <th></th>\n",
       "      <th>publisher</th>\n",
       "      <th>book_count</th>\n",
       "    </tr>\n",
       "  </thead>\n",
       "  <tbody>\n",
       "    <tr>\n",
       "      <th>0</th>\n",
       "      <td>Penguin Books</td>\n",
       "      <td>42</td>\n",
       "    </tr>\n",
       "  </tbody>\n",
       "</table>\n",
       "</div>"
      ],
      "text/plain": [
       "       publisher  book_count\n",
       "0  Penguin Books          42"
      ]
     },
     "metadata": {},
     "output_type": "display_data"
    }
   ],
   "source": [
    "# Query 3: Identify the publisher that has published the greatest number of books with more than 50 pages\n",
    "query3 = \"\"\"\n",
    "SELECT p.publisher, COUNT(b.book_id) AS book_count\n",
    "FROM books b\n",
    "JOIN publishers p ON b.publisher_id = p.publisher_id\n",
    "WHERE b.num_pages > 50\n",
    "GROUP BY p.publisher\n",
    "ORDER BY book_count DESC\n",
    "LIMIT 1;\n",
    "\"\"\"\n",
    "result3 = pd.read_sql(query3, con=engine)\n",
    "display(result3)"
   ]
  },
  {
   "cell_type": "markdown",
   "metadata": {},
   "source": [
    "Penguin Books has published 42 books with over 50 pages, making it the leading publisher in this category. It significantly contributes to the database's collection. This dominance implies that Penguin Books is a reliable source of quality publications. Since Penguin has a reputation for its diverse and high-quality literature, its presence in the database can increase user trust and satisfaction, as readers often associate the brand with reputable content."
   ]
  },
  {
   "cell_type": "code",
   "execution_count": 13,
   "metadata": {},
   "outputs": [
    {
     "data": {
      "text/html": [
       "<div>\n",
       "<style scoped>\n",
       "    .dataframe tbody tr th:only-of-type {\n",
       "        vertical-align: middle;\n",
       "    }\n",
       "\n",
       "    .dataframe tbody tr th {\n",
       "        vertical-align: top;\n",
       "    }\n",
       "\n",
       "    .dataframe thead th {\n",
       "        text-align: right;\n",
       "    }\n",
       "</style>\n",
       "<table border=\"1\" class=\"dataframe\">\n",
       "  <thead>\n",
       "    <tr style=\"text-align: right;\">\n",
       "      <th></th>\n",
       "      <th>author</th>\n",
       "      <th>average_rating</th>\n",
       "      <th>num_ratings</th>\n",
       "    </tr>\n",
       "  </thead>\n",
       "  <tbody>\n",
       "    <tr>\n",
       "      <th>0</th>\n",
       "      <td>Diana Gabaldon</td>\n",
       "      <td>4.3</td>\n",
       "      <td>50</td>\n",
       "    </tr>\n",
       "  </tbody>\n",
       "</table>\n",
       "</div>"
      ],
      "text/plain": [
       "           author  average_rating  num_ratings\n",
       "0  Diana Gabaldon             4.3           50"
      ]
     },
     "metadata": {},
     "output_type": "display_data"
    }
   ],
   "source": [
    "# Query 4: Identify the author who has the highest average book rating for books with at least 50 ratings\n",
    "query4 = \"\"\"\n",
    "SELECT a.author, \n",
    "    AVG(rt.rating) AS average_rating,\n",
    "    COUNT(rt.rating_id) AS num_ratings\n",
    "FROM books b\n",
    "JOIN authors a  ON b.author_id = a.author_id\n",
    "JOIN ratings rt ON b.book_id = rt.book_id\n",
    "GROUP by a.author\n",
    "HAVING COUNT(rt.rating_id) >=50\n",
    "ORDER BY average_rating DESC\n",
    "LIMIT 1;\n",
    "\"\"\"\n",
    "\n",
    "result4 = pd.read_sql(query4, con=engine)\n",
    "display(result4)\n"
   ]
  },
  {
   "cell_type": "markdown",
   "metadata": {},
   "source": [
    "Diana Gabaldon has the highest average rating for her books, with at least 50 ratings. This indicates that Gabaldon's books are well received by readers. Also the number of reviews shows that her readership is higly engaged with her work. Her high rating and engagement make her a prime candidate for focused marketing efforts."
   ]
  },
  {
   "cell_type": "code",
   "execution_count": 14,
   "metadata": {},
   "outputs": [
    {
     "data": {
      "text/html": [
       "<div>\n",
       "<style scoped>\n",
       "    .dataframe tbody tr th:only-of-type {\n",
       "        vertical-align: middle;\n",
       "    }\n",
       "\n",
       "    .dataframe tbody tr th {\n",
       "        vertical-align: top;\n",
       "    }\n",
       "\n",
       "    .dataframe thead th {\n",
       "        text-align: right;\n",
       "    }\n",
       "</style>\n",
       "<table border=\"1\" class=\"dataframe\">\n",
       "  <thead>\n",
       "    <tr style=\"text-align: right;\">\n",
       "      <th></th>\n",
       "      <th>average_review_count</th>\n",
       "    </tr>\n",
       "  </thead>\n",
       "  <tbody>\n",
       "    <tr>\n",
       "      <th>0</th>\n",
       "      <td>24.333333</td>\n",
       "    </tr>\n",
       "  </tbody>\n",
       "</table>\n",
       "</div>"
      ],
      "text/plain": [
       "   average_review_count\n",
       "0             24.333333"
      ]
     },
     "metadata": {},
     "output_type": "display_data"
    }
   ],
   "source": [
    "# Query 5: Find the average number of text reviews among users who rated more than 50 books\n",
    "query5 = \"\"\"\n",
    "WITH user_ratings AS (\n",
    "    SELECT username, COUNT(rating_id) AS rating_count\n",
    "    FROM ratings\n",
    "    GROUP BY username\n",
    "    HAVING COUNT(rating_id) > 50\n",
    ")\n",
    "SELECT AVG(user_reviews.review_count) AS average_review_count\n",
    "FROM (\n",
    "    SELECT rw.username, COUNT(rw.review_id) AS review_count\n",
    "    FROM reviews rw\n",
    "    JOIN user_ratings ur ON rw.username = ur.username\n",
    "    GROUP BY rw.username\n",
    ") user_reviews;\n",
    "\"\"\"\n",
    "result5 = pd.read_sql(query5, con=engine)\n",
    "display(result5)"
   ]
  },
  {
   "cell_type": "markdown",
   "metadata": {},
   "source": [
    "On average, users who have rated more than 50 books have written approximately 24.33 text reviews. Users who rate many books also actively contribute written reviews. This indicates a highly engaged user base that rates books and takes the time to write detailed reviews. The high average number of reviews suggests that these active users provide substantial feedback, which can be invaluable for other readers and understanding user preferences. The significant average number of reviews among active raters presents an opportunity to encourage more users to write reviews."
   ]
  }
 ],
 "metadata": {
  "ExecuteTimeLog": [
   {
    "duration": 13,
    "start_time": "2024-07-25T13:39:25.098Z"
   },
   {
    "duration": 5,
    "start_time": "2024-07-25T13:39:31.595Z"
   },
   {
    "duration": 112,
    "start_time": "2024-07-25T13:41:05.950Z"
   },
   {
    "duration": 470,
    "start_time": "2024-07-25T13:41:25.662Z"
   },
   {
    "duration": 2705,
    "start_time": "2024-07-25T13:41:52.347Z"
   },
   {
    "duration": 3,
    "start_time": "2024-07-25T13:44:31.692Z"
   },
   {
    "duration": 776,
    "start_time": "2024-07-25T13:46:00.316Z"
   },
   {
    "duration": 775,
    "start_time": "2024-07-25T13:46:28.006Z"
   },
   {
    "duration": 776,
    "start_time": "2024-07-25T13:46:42.298Z"
   },
   {
    "duration": 779,
    "start_time": "2024-07-25T13:46:50.813Z"
   },
   {
    "duration": 772,
    "start_time": "2024-07-25T13:48:12.036Z"
   },
   {
    "duration": 1537,
    "start_time": "2024-07-25T13:48:53.574Z"
   },
   {
    "duration": 2892,
    "start_time": "2024-07-25T13:50:08.252Z"
   },
   {
    "duration": 752,
    "start_time": "2024-07-25T13:51:02.586Z"
   },
   {
    "duration": 757,
    "start_time": "2024-07-25T13:51:29.760Z"
   },
   {
    "duration": 751,
    "start_time": "2024-07-25T13:52:09.304Z"
   },
   {
    "duration": 13,
    "start_time": "2024-07-26T02:23:02.997Z"
   },
   {
    "duration": 201,
    "start_time": "2024-07-26T02:23:12.470Z"
   },
   {
    "duration": 471,
    "start_time": "2024-07-26T02:23:12.675Z"
   },
   {
    "duration": 2622,
    "start_time": "2024-07-26T02:23:13.149Z"
   },
   {
    "duration": 746,
    "start_time": "2024-07-26T02:23:15.775Z"
   },
   {
    "duration": 747,
    "start_time": "2024-07-26T02:23:16.525Z"
   },
   {
    "duration": 748,
    "start_time": "2024-07-26T02:23:17.275Z"
   },
   {
    "duration": 749,
    "start_time": "2024-07-26T02:23:18.026Z"
   },
   {
    "duration": 744,
    "start_time": "2024-07-26T02:23:18.777Z"
   },
   {
    "duration": 1481,
    "start_time": "2024-07-26T02:23:19.524Z"
   },
   {
    "duration": 2905,
    "start_time": "2024-07-26T02:23:21.009Z"
   },
   {
    "duration": 754,
    "start_time": "2024-07-26T02:23:23.917Z"
   },
   {
    "duration": 758,
    "start_time": "2024-07-26T02:23:24.675Z"
   },
   {
    "duration": 755,
    "start_time": "2024-07-26T02:23:25.435Z"
   },
   {
    "duration": 6,
    "start_time": "2024-07-26T02:25:23.631Z"
   }
  ],
  "kernelspec": {
   "display_name": "Python 3 (ipykernel)",
   "language": "python",
   "name": "python3"
  },
  "language_info": {
   "codemirror_mode": {
    "name": "ipython",
    "version": 3
   },
   "file_extension": ".py",
   "mimetype": "text/x-python",
   "name": "python",
   "nbconvert_exporter": "python",
   "pygments_lexer": "ipython3",
   "version": "3.9.19"
  },
  "toc": {
   "base_numbering": 1,
   "nav_menu": {},
   "number_sections": true,
   "sideBar": true,
   "skip_h1_title": true,
   "title_cell": "Table of Contents",
   "title_sidebar": "Contents",
   "toc_cell": false,
   "toc_position": {},
   "toc_section_display": true,
   "toc_window_display": true
  }
 },
 "nbformat": 4,
 "nbformat_minor": 2
}
